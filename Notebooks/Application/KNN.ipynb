{
 "cells": [
  {
   "cell_type": "code",
   "execution_count": 16,
   "id": "4a9641f2",
   "metadata": {},
   "outputs": [],
   "source": [
    "# Imports\n",
    "import os\n",
    "\n",
    "# Data science and vis tools\n",
    "import numpy as np\n",
    "import pandas as pd\n",
    "import matplotlib.pyplot as plt\n",
    "\n",
    "# Nilearn: Python module for statistical processing of neuroimaging data.\n",
    "from nilearn import datasets, plotting, image, interfaces\n",
    "\n",
    "# NiftiMasker is for single regoin of interest\n",
    "# NiftiMapsMasker is for probablistic atlas\n",
    "# NiftiLabelsMasker is for discrete atlas\n",
    "from nilearn.maskers import NiftiMasker, NiftiMapsMasker, NiftiLabelsMasker \n",
    "\n",
    "import nibabel as nib # Read and write access to common neuroimaging file formats\n",
    "import nitime as nit # library for the analysis of time series in the field of neuroimaging. \n",
    "\n",
    "# Custom python files\n",
    "from hcp_data import get_hcp_cleaned_data\n",
    "import component_plotting as cp"
   ]
  },
  {
   "cell_type": "markdown",
   "id": "6cc4e8b9",
   "metadata": {},
   "source": [
    "## Get Cleaned Data"
   ]
  },
  {
   "cell_type": "code",
   "execution_count": 17,
   "id": "f6bde6a3",
   "metadata": {},
   "outputs": [],
   "source": [
    "data = get_hcp_cleaned_data()"
   ]
  },
  {
   "cell_type": "code",
   "execution_count": 18,
   "id": "ab6b8ad6",
   "metadata": {},
   "outputs": [
    {
     "data": {
      "text/html": [
       "<div>\n",
       "<style scoped>\n",
       "    .dataframe tbody tr th:only-of-type {\n",
       "        vertical-align: middle;\n",
       "    }\n",
       "\n",
       "    .dataframe tbody tr th {\n",
       "        vertical-align: top;\n",
       "    }\n",
       "\n",
       "    .dataframe thead th {\n",
       "        text-align: right;\n",
       "    }\n",
       "</style>\n",
       "<table border=\"1\" class=\"dataframe\">\n",
       "  <thead>\n",
       "    <tr style=\"text-align: right;\">\n",
       "      <th></th>\n",
       "      <th>Gender</th>\n",
       "      <th>Age</th>\n",
       "      <th>netmat</th>\n",
       "    </tr>\n",
       "    <tr>\n",
       "      <th>subject_id</th>\n",
       "      <th></th>\n",
       "      <th></th>\n",
       "      <th></th>\n",
       "    </tr>\n",
       "  </thead>\n",
       "  <tbody>\n",
       "    <tr>\n",
       "      <th>100206</th>\n",
       "      <td>M</td>\n",
       "      <td>26-30</td>\n",
       "      <td>[[0.0, 0.61676, 9.5727, -5.4959, 0.34639, 3.00...</td>\n",
       "    </tr>\n",
       "    <tr>\n",
       "      <th>100307</th>\n",
       "      <td>F</td>\n",
       "      <td>26-30</td>\n",
       "      <td>[[0.0, -0.29664, 17.317, -9.0467, -0.28723, 1....</td>\n",
       "    </tr>\n",
       "    <tr>\n",
       "      <th>100408</th>\n",
       "      <td>M</td>\n",
       "      <td>31-35</td>\n",
       "      <td>[[0.0, 1.6486, 6.6189, -8.8877, 1.4337, 1.006,...</td>\n",
       "    </tr>\n",
       "    <tr>\n",
       "      <th>100610</th>\n",
       "      <td>M</td>\n",
       "      <td>26-30</td>\n",
       "      <td>[[0.0, -0.90275, 7.7215, -8.3907, 3.3144, 2.93...</td>\n",
       "    </tr>\n",
       "    <tr>\n",
       "      <th>101006</th>\n",
       "      <td>F</td>\n",
       "      <td>31-35</td>\n",
       "      <td>[[0.0, -0.088768, 9.4979, -10.412, 1.0646, 4.3...</td>\n",
       "    </tr>\n",
       "    <tr>\n",
       "      <th>...</th>\n",
       "      <td>...</td>\n",
       "      <td>...</td>\n",
       "      <td>...</td>\n",
       "    </tr>\n",
       "    <tr>\n",
       "      <th>992673</th>\n",
       "      <td>F</td>\n",
       "      <td>31-35</td>\n",
       "      <td>[[0.0, -0.11536, 7.1338, -5.5322, 0.34004, 1.6...</td>\n",
       "    </tr>\n",
       "    <tr>\n",
       "      <th>992774</th>\n",
       "      <td>M</td>\n",
       "      <td>31-35</td>\n",
       "      <td>[[0.0, 0.25353, 8.0265, -6.2072, 4.1589, 1.582...</td>\n",
       "    </tr>\n",
       "    <tr>\n",
       "      <th>993675</th>\n",
       "      <td>F</td>\n",
       "      <td>26-30</td>\n",
       "      <td>[[0.0, -1.0378, 10.709, -3.3224, -0.090704, 2....</td>\n",
       "    </tr>\n",
       "    <tr>\n",
       "      <th>994273</th>\n",
       "      <td>M</td>\n",
       "      <td>26-30</td>\n",
       "      <td>[[0.0, 0.64613, 11.471, -5.5137, 1.9357, 4.259...</td>\n",
       "    </tr>\n",
       "    <tr>\n",
       "      <th>996782</th>\n",
       "      <td>F</td>\n",
       "      <td>26-30</td>\n",
       "      <td>[[0.0, 1.6924, 10.201, -1.5257, 5.2389, 3.1335...</td>\n",
       "    </tr>\n",
       "  </tbody>\n",
       "</table>\n",
       "<p>1003 rows × 3 columns</p>\n",
       "</div>"
      ],
      "text/plain": [
       "           Gender    Age                                             netmat\n",
       "subject_id                                                                 \n",
       "100206          M  26-30  [[0.0, 0.61676, 9.5727, -5.4959, 0.34639, 3.00...\n",
       "100307          F  26-30  [[0.0, -0.29664, 17.317, -9.0467, -0.28723, 1....\n",
       "100408          M  31-35  [[0.0, 1.6486, 6.6189, -8.8877, 1.4337, 1.006,...\n",
       "100610          M  26-30  [[0.0, -0.90275, 7.7215, -8.3907, 3.3144, 2.93...\n",
       "101006          F  31-35  [[0.0, -0.088768, 9.4979, -10.412, 1.0646, 4.3...\n",
       "...           ...    ...                                                ...\n",
       "992673          F  31-35  [[0.0, -0.11536, 7.1338, -5.5322, 0.34004, 1.6...\n",
       "992774          M  31-35  [[0.0, 0.25353, 8.0265, -6.2072, 4.1589, 1.582...\n",
       "993675          F  26-30  [[0.0, -1.0378, 10.709, -3.3224, -0.090704, 2....\n",
       "994273          M  26-30  [[0.0, 0.64613, 11.471, -5.5137, 1.9357, 4.259...\n",
       "996782          F  26-30  [[0.0, 1.6924, 10.201, -1.5257, 5.2389, 3.1335...\n",
       "\n",
       "[1003 rows x 3 columns]"
      ]
     },
     "execution_count": 18,
     "metadata": {},
     "output_type": "execute_result"
    }
   ],
   "source": [
    "data"
   ]
  },
  {
   "cell_type": "markdown",
   "id": "8fee86b0",
   "metadata": {},
   "source": [
    "## KNN Implementation"
   ]
  },
  {
   "cell_type": "code",
   "execution_count": 7,
   "id": "3e3b4271",
   "metadata": {},
   "outputs": [],
   "source": [
    "from sklearn.neighbors import KNeighborsClassifier\n",
    "from sklearn.model_selection import train_test_split\n",
    "from sklearn.metrics import accuracy_score"
   ]
  },
  {
   "cell_type": "code",
   "execution_count": 8,
   "id": "afcae1a6",
   "metadata": {},
   "outputs": [],
   "source": [
    "X = data['netmat'].apply(lambda x : x.flatten()).to_list()\n",
    "y = data['Gender'].to_list()"
   ]
  },
  {
   "cell_type": "code",
   "execution_count": 9,
   "id": "16572a19",
   "metadata": {},
   "outputs": [],
   "source": [
    "# Generate Train Test Split\n",
    "X_train, X_test, y_train, y_test = train_test_split(X, y, random_state = 1)"
   ]
  },
  {
   "cell_type": "code",
   "execution_count": 10,
   "id": "ff83ea0a",
   "metadata": {},
   "outputs": [],
   "source": [
    "# Knn classifier\n",
    "knn10 = KNeighborsClassifier(n_neighbors = 10)"
   ]
  },
  {
   "cell_type": "code",
   "execution_count": 11,
   "id": "42b161b1",
   "metadata": {},
   "outputs": [],
   "source": [
    "knn10.fit(X_train, y_train)\n",
    "y_pred_2 = knn10.predict(X_test)"
   ]
  },
  {
   "cell_type": "code",
   "execution_count": 12,
   "id": "02c221ca",
   "metadata": {},
   "outputs": [
    {
     "name": "stdout",
     "output_type": "stream",
     "text": [
      "Accuracy with k=10 84.86055776892431\n"
     ]
    }
   ],
   "source": [
    "print(\"Accuracy with k=10\", accuracy_score(y_test, y_pred_2)*100)"
   ]
  },
  {
   "cell_type": "code",
   "execution_count": 13,
   "id": "0ed84273",
   "metadata": {},
   "outputs": [
    {
     "name": "stdout",
     "output_type": "stream",
     "text": [
      "Accuracy with k=1 80.87649402390437\n",
      "Accuracy with k=2 83.26693227091634\n",
      "Accuracy with k=3 79.6812749003984\n",
      "Accuracy with k=4 85.65737051792829\n",
      "Accuracy with k=5 81.27490039840637\n",
      "Accuracy with k=6 86.85258964143426\n",
      "Accuracy with k=7 80.0796812749004\n",
      "Accuracy with k=8 82.07171314741036\n",
      "Accuracy with k=9 80.47808764940238\n",
      "Accuracy with k=10 84.86055776892431\n",
      "Accuracy with k=11 80.47808764940238\n",
      "Accuracy with k=12 85.65737051792829\n",
      "Accuracy with k=13 81.27490039840637\n",
      "Accuracy with k=14 84.06374501992032\n",
      "Accuracy with k=15 81.67330677290838\n",
      "Accuracy with k=16 83.26693227091634\n",
      "Accuracy with k=17 80.0796812749004\n",
      "Accuracy with k=18 84.06374501992032\n",
      "Accuracy with k=19 82.47011952191235\n",
      "Accuracy with k=20 84.86055776892431\n",
      "Accuracy with k=21 82.07171314741036\n",
      "Accuracy with k=22 84.4621513944223\n",
      "Accuracy with k=23 84.06374501992032\n",
      "Accuracy with k=24 82.86852589641434\n"
     ]
    }
   ],
   "source": [
    "# Test different n\n",
    "for i in range(1, 25):\n",
    "    knn = KNeighborsClassifier(n_neighbors = i)\n",
    "    knn.fit(X_train, y_train)\n",
    "    y_pred = knn.predict(X_test)\n",
    "    print(\"Accuracy with k=\" + str(i), accuracy_score(y_test, y_pred)*100)"
   ]
  },
  {
   "cell_type": "markdown",
   "id": "3d1d7b72",
   "metadata": {},
   "source": [
    "**85 percent accuracy not bad but the n does not make a difference**"
   ]
  },
  {
   "cell_type": "code",
   "execution_count": null,
   "id": "45133e87",
   "metadata": {},
   "outputs": [],
   "source": []
  }
 ],
 "metadata": {
  "kernelspec": {
   "display_name": "Python 3 (ipykernel)",
   "language": "python",
   "name": "python3"
  },
  "language_info": {
   "codemirror_mode": {
    "name": "ipython",
    "version": 3
   },
   "file_extension": ".py",
   "mimetype": "text/x-python",
   "name": "python",
   "nbconvert_exporter": "python",
   "pygments_lexer": "ipython3",
   "version": "3.9.13"
  }
 },
 "nbformat": 4,
 "nbformat_minor": 5
}
